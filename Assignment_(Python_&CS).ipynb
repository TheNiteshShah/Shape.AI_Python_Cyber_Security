{
  "nbformat": 4,
  "nbformat_minor": 0,
  "metadata": {
    "colab": {
      "name": "Assignment (Python &CS).ipynb",
      "provenance": []
    },
    "kernelspec": {
      "name": "python3",
      "display_name": "Python 3"
    },
    "language_info": {
      "name": "python"
    }
  },
  "cells": [
    {
      "cell_type": "code",
      "metadata": {
        "colab": {
          "base_uri": "https://localhost:8080/"
        },
        "id": "Jr5W1Cqy_8uV",
        "outputId": "b95bed2d-120a-4c29-bb39-1ac7b2837e3c"
      },
      "source": [
        "import requests\n",
        "from datetime import datetime\n",
        "api_key = '87d845b0b6cf29baa1a73cc34b067a95'\n",
        "location = input(\"Enter the city name: \")\n",
        "complete_api_link = \"https://api.openweathermap.org/data/2.5/weather?q=\"+location+\"&appid=\"+api_key\n",
        "api_link = requests.get(complete_api_link)\n",
        "api_data = api_link.json()\n",
        "temp_city = ((api_data['main']['temp'])-273.15)\n",
        "weather_desc = api_data['weather'][0]['description']\n",
        "hmdt = api_data['main']['humidity']\n",
        "wind_spd = api_data['wind']['speed']\n",
        "date_time = datetime.now().strftime(\"%d %b %Y | %I:%M:%S %p\")\n",
        "print(\"---------------------------------------------------\")\n",
        "print(\"Weather Stats for - {}  ||  {}\".format(location.upper(), date_time))\n",
        "print(\"---------------------------------------------------\")\n",
        "\n",
        "print(\"Current temperature is: {:.2f} deg C\".format(temp_city))\n",
        "print(\"Cureent weather desc :\",weather_desc)\n",
        "print(\"Cureent Humidity     :\",hmdt,'%')\n",
        "print(\"Current wind speed   :\",wind_spd,'kmph')"
      ],
      "execution_count": 4,
      "outputs": [
        {
          "output_type": "stream",
          "text": [
            "Enter the city name: jaipur\n",
            "---------------------------------------------------\n",
            "Weather Stats for - JAIPUR  ||  22 Jun 2021 | 01:13:38 PM\n",
            "---------------------------------------------------\n",
            "Current temperature is: 38.62 deg C\n",
            "Cureent weather desc : haze\n",
            "Cureent Humidity     : 22 %\n",
            "Current wind speed   : 6.17 kmph\n"
          ],
          "name": "stdout"
        }
      ]
    }
  ]
}